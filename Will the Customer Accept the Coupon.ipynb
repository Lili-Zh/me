{
 "cells": [
  {
   "attachments": {},
   "cell_type": "raw",
   "metadata": {
    "id": "CcUT6Fon_qRE"
   },
   "source": [
    "### Required Assignment 5.1: Will the Customer Accept the Coupon?\n",
    "\n",
    "**Context**\n",
    "\n",
    "Imagine driving through town and a coupon is delivered to your cell phone for a restaurant near where you are driving. Would you accept that coupon and take a short detour to the restaurant? Would you accept the coupon but use it on a subsequent trip? Would you ignore the coupon entirely? What if the coupon was for a bar instead of a restaurant? What about a coffee house? Would you accept a bar coupon with a minor passenger in the car? What about if it was just you and your partner in the car? Would weather impact the rate of acceptance? What about the time of day?\n",
    "\n",
    "Obviously, proximity to the business is a factor on whether the coupon is delivered to the driver or not, but what are the factors that determine whether a driver accepts the coupon once it is delivered to them? How would you determine whether a driver is likely to accept a coupon?\n",
    "\n",
    "**Overview**\n",
    "\n",
    "The goal of this project is to use what you know about visualizations and probability distributions to distinguish between customers who accepted a driving coupon versus those that did not.\n",
    "\n",
    "**Data**\n",
    "\n",
    "This data comes to us from the UCI Machine Learning repository and was collected via a survey on Amazon Mechanical Turk. The survey describes different driving scenarios including the destination, current time, weather, passenger, etc., and then ask the person whether he will accept the coupon if he is the driver. Answers that the user will drive there ‘right away’ or ‘later before the coupon expires’ are labeled as ‘Y = 1’ and answers ‘no, I do not want the coupon’ are labeled as ‘Y = 0’.  There are five different types of coupons -- less expensive restaurants (under \\$20), coffee houses, carry out & take away, bar, and more expensive restaurants (\\$20 - $50).\n",
    "\n",
    "**Deliverables**\n",
    "\n",
    "Your final product should be a brief report that highlights the differences between customers who did and did not accept the coupons.  To explore the data you will utilize your knowledge of plotting, statistical summaries, and visualization using Python. You will publish your findings in a public facing github repository as your first portfolio piece.\n",
    "\n",
    "\n",
    "\n"
   ]
  },
  {
   "cell_type": "markdown",
   "metadata": {
    "id": "pG6_Ym6q_qRG"
   },
   "source": [
    "### Data Description\n",
    "Keep in mind that these values mentioned below are average values.\n",
    "\n",
    "The attributes of this data set include:\n",
    "1. User attributes\n",
    "    -  Gender: male, female\n",
    "    -  Age: below 21, 21 to 25, 26 to 30, etc.\n",
    "    -  Marital Status: single, married partner, unmarried partner, or widowed\n",
    "    -  Number of children: 0, 1, or more than 1\n",
    "    -  Education: high school, bachelors degree, associates degree, or graduate degree\n",
    "    -  Occupation: architecture & engineering, business & financial, etc.\n",
    "    -  Annual income: less than \\\\$12500, \\\\$12500 - \\\\$24999, \\\\$25000 - \\\\$37499, etc.\n",
    "    -  Number of times that he/she goes to a bar: 0, less than 1, 1 to 3, 4 to 8 or greater than 8\n",
    "    -  Number of times that he/she buys takeaway food: 0, less than 1, 1 to 3, 4 to 8 or greater\n",
    "    than 8\n",
    "    -  Number of times that he/she goes to a coffee house: 0, less than 1, 1 to 3, 4 to 8 or\n",
    "    greater than 8\n",
    "    -  Number of times that he/she eats at a restaurant with average expense less than \\\\$20 per\n",
    "    person: 0, less than 1, 1 to 3, 4 to 8 or greater than 8\n",
    "    -  Number of times that he/she goes to a bar: 0, less than 1, 1 to 3, 4 to 8 or greater than 8\n",
    "    \n",
    "\n",
    "2. Contextual attributes\n",
    "    - Driving destination: home, work, or no urgent destination\n",
    "    - Location of user, coupon and destination: we provide a map to show the geographical\n",
    "    location of the user, destination, and the venue, and we mark the distance between each\n",
    "    two places with time of driving. The user can see whether the venue is in the same\n",
    "    direction as the destination.\n",
    "    - Weather: sunny, rainy, or snowy\n",
    "    - Temperature: 30F, 55F, or 80F\n",
    "    - Time: 10AM, 2PM, or 6PM\n",
    "    - Passenger: alone, partner, kid(s), or friend(s)\n",
    "\n",
    "\n",
    "3. Coupon attributes\n",
    "    - time before it expires: 2 hours or one day"
   ]
  },
  {
   "cell_type": "code",
   "execution_count": 1,
   "metadata": {
    "id": "dzNoP3o__qRG"
   },
   "outputs": [],
   "source": [
    "import matplotlib.pyplot as plt\n",
    "import seaborn as sns\n",
    "import pandas as pd\n",
    "import numpy as np"
   ]
  },
  {
   "cell_type": "markdown",
   "metadata": {
    "id": "Ct8pI1uE_qRG"
   },
   "source": [
    "### Problems\n",
    "\n",
    "Use the prompts below to get started with your data analysis.  \n",
    "\n",
    "1. Read in the `coupons.csv` file.\n",
    "\n",
    "\n"
   ]
  },
  {
   "cell_type": "code",
   "execution_count": 2,
   "metadata": {
    "id": "X0vbffYg_qRH"
   },
   "outputs": [],
   "source": [
    "data = pd.read_csv('data/coupons.csv')"
   ]
  },
  {
   "cell_type": "code",
   "execution_count": 3,
   "metadata": {
    "id": "TXofQ_DF_qRH",
    "outputId": "2fc96a2c-1112-4b54-f24f-dbb9bc88abfb"
   },
   "outputs": [
    {
     "data": {
      "text/html": [
       "<div>\n",
       "<style scoped>\n",
       "    .dataframe tbody tr th:only-of-type {\n",
       "        vertical-align: middle;\n",
       "    }\n",
       "\n",
       "    .dataframe tbody tr th {\n",
       "        vertical-align: top;\n",
       "    }\n",
       "\n",
       "    .dataframe thead th {\n",
       "        text-align: right;\n",
       "    }\n",
       "</style>\n",
       "<table border=\"1\" class=\"dataframe\">\n",
       "  <thead>\n",
       "    <tr style=\"text-align: right;\">\n",
       "      <th></th>\n",
       "      <th>destination</th>\n",
       "      <th>passanger</th>\n",
       "      <th>weather</th>\n",
       "      <th>temperature</th>\n",
       "      <th>time</th>\n",
       "      <th>coupon</th>\n",
       "      <th>expiration</th>\n",
       "      <th>gender</th>\n",
       "      <th>age</th>\n",
       "      <th>maritalStatus</th>\n",
       "      <th>...</th>\n",
       "      <th>CoffeeHouse</th>\n",
       "      <th>CarryAway</th>\n",
       "      <th>RestaurantLessThan20</th>\n",
       "      <th>Restaurant20To50</th>\n",
       "      <th>toCoupon_GEQ5min</th>\n",
       "      <th>toCoupon_GEQ15min</th>\n",
       "      <th>toCoupon_GEQ25min</th>\n",
       "      <th>direction_same</th>\n",
       "      <th>direction_opp</th>\n",
       "      <th>Y</th>\n",
       "    </tr>\n",
       "  </thead>\n",
       "  <tbody>\n",
       "    <tr>\n",
       "      <th>0</th>\n",
       "      <td>No Urgent Place</td>\n",
       "      <td>Alone</td>\n",
       "      <td>Sunny</td>\n",
       "      <td>55</td>\n",
       "      <td>2PM</td>\n",
       "      <td>Restaurant(&lt;20)</td>\n",
       "      <td>1d</td>\n",
       "      <td>Female</td>\n",
       "      <td>21</td>\n",
       "      <td>Unmarried partner</td>\n",
       "      <td>...</td>\n",
       "      <td>never</td>\n",
       "      <td>NaN</td>\n",
       "      <td>4~8</td>\n",
       "      <td>1~3</td>\n",
       "      <td>1</td>\n",
       "      <td>0</td>\n",
       "      <td>0</td>\n",
       "      <td>0</td>\n",
       "      <td>1</td>\n",
       "      <td>1</td>\n",
       "    </tr>\n",
       "    <tr>\n",
       "      <th>1</th>\n",
       "      <td>No Urgent Place</td>\n",
       "      <td>Friend(s)</td>\n",
       "      <td>Sunny</td>\n",
       "      <td>80</td>\n",
       "      <td>10AM</td>\n",
       "      <td>Coffee House</td>\n",
       "      <td>2h</td>\n",
       "      <td>Female</td>\n",
       "      <td>21</td>\n",
       "      <td>Unmarried partner</td>\n",
       "      <td>...</td>\n",
       "      <td>never</td>\n",
       "      <td>NaN</td>\n",
       "      <td>4~8</td>\n",
       "      <td>1~3</td>\n",
       "      <td>1</td>\n",
       "      <td>0</td>\n",
       "      <td>0</td>\n",
       "      <td>0</td>\n",
       "      <td>1</td>\n",
       "      <td>0</td>\n",
       "    </tr>\n",
       "    <tr>\n",
       "      <th>2</th>\n",
       "      <td>No Urgent Place</td>\n",
       "      <td>Friend(s)</td>\n",
       "      <td>Sunny</td>\n",
       "      <td>80</td>\n",
       "      <td>10AM</td>\n",
       "      <td>Carry out &amp; Take away</td>\n",
       "      <td>2h</td>\n",
       "      <td>Female</td>\n",
       "      <td>21</td>\n",
       "      <td>Unmarried partner</td>\n",
       "      <td>...</td>\n",
       "      <td>never</td>\n",
       "      <td>NaN</td>\n",
       "      <td>4~8</td>\n",
       "      <td>1~3</td>\n",
       "      <td>1</td>\n",
       "      <td>1</td>\n",
       "      <td>0</td>\n",
       "      <td>0</td>\n",
       "      <td>1</td>\n",
       "      <td>1</td>\n",
       "    </tr>\n",
       "    <tr>\n",
       "      <th>3</th>\n",
       "      <td>No Urgent Place</td>\n",
       "      <td>Friend(s)</td>\n",
       "      <td>Sunny</td>\n",
       "      <td>80</td>\n",
       "      <td>2PM</td>\n",
       "      <td>Coffee House</td>\n",
       "      <td>2h</td>\n",
       "      <td>Female</td>\n",
       "      <td>21</td>\n",
       "      <td>Unmarried partner</td>\n",
       "      <td>...</td>\n",
       "      <td>never</td>\n",
       "      <td>NaN</td>\n",
       "      <td>4~8</td>\n",
       "      <td>1~3</td>\n",
       "      <td>1</td>\n",
       "      <td>1</td>\n",
       "      <td>0</td>\n",
       "      <td>0</td>\n",
       "      <td>1</td>\n",
       "      <td>0</td>\n",
       "    </tr>\n",
       "    <tr>\n",
       "      <th>4</th>\n",
       "      <td>No Urgent Place</td>\n",
       "      <td>Friend(s)</td>\n",
       "      <td>Sunny</td>\n",
       "      <td>80</td>\n",
       "      <td>2PM</td>\n",
       "      <td>Coffee House</td>\n",
       "      <td>1d</td>\n",
       "      <td>Female</td>\n",
       "      <td>21</td>\n",
       "      <td>Unmarried partner</td>\n",
       "      <td>...</td>\n",
       "      <td>never</td>\n",
       "      <td>NaN</td>\n",
       "      <td>4~8</td>\n",
       "      <td>1~3</td>\n",
       "      <td>1</td>\n",
       "      <td>1</td>\n",
       "      <td>0</td>\n",
       "      <td>0</td>\n",
       "      <td>1</td>\n",
       "      <td>0</td>\n",
       "    </tr>\n",
       "  </tbody>\n",
       "</table>\n",
       "<p>5 rows × 26 columns</p>\n",
       "</div>"
      ],
      "text/plain": [
       "       destination  passanger weather  temperature  time  \\\n",
       "0  No Urgent Place      Alone   Sunny           55   2PM   \n",
       "1  No Urgent Place  Friend(s)   Sunny           80  10AM   \n",
       "2  No Urgent Place  Friend(s)   Sunny           80  10AM   \n",
       "3  No Urgent Place  Friend(s)   Sunny           80   2PM   \n",
       "4  No Urgent Place  Friend(s)   Sunny           80   2PM   \n",
       "\n",
       "                  coupon expiration  gender age      maritalStatus  ...  \\\n",
       "0        Restaurant(<20)         1d  Female  21  Unmarried partner  ...   \n",
       "1           Coffee House         2h  Female  21  Unmarried partner  ...   \n",
       "2  Carry out & Take away         2h  Female  21  Unmarried partner  ...   \n",
       "3           Coffee House         2h  Female  21  Unmarried partner  ...   \n",
       "4           Coffee House         1d  Female  21  Unmarried partner  ...   \n",
       "\n",
       "   CoffeeHouse CarryAway RestaurantLessThan20 Restaurant20To50  \\\n",
       "0        never       NaN                  4~8              1~3   \n",
       "1        never       NaN                  4~8              1~3   \n",
       "2        never       NaN                  4~8              1~3   \n",
       "3        never       NaN                  4~8              1~3   \n",
       "4        never       NaN                  4~8              1~3   \n",
       "\n",
       "  toCoupon_GEQ5min toCoupon_GEQ15min toCoupon_GEQ25min direction_same  \\\n",
       "0                1                 0                 0              0   \n",
       "1                1                 0                 0              0   \n",
       "2                1                 1                 0              0   \n",
       "3                1                 1                 0              0   \n",
       "4                1                 1                 0              0   \n",
       "\n",
       "  direction_opp  Y  \n",
       "0             1  1  \n",
       "1             1  0  \n",
       "2             1  1  \n",
       "3             1  0  \n",
       "4             1  0  \n",
       "\n",
       "[5 rows x 26 columns]"
      ]
     },
     "execution_count": 3,
     "metadata": {},
     "output_type": "execute_result"
    }
   ],
   "source": [
    "data.head()"
   ]
  },
  {
   "cell_type": "markdown",
   "metadata": {
    "id": "GcDs78ZH_qRH"
   },
   "source": [
    "2. Investigate the dataset for missing or problematic data."
   ]
  },
  {
   "cell_type": "code",
   "execution_count": 4,
   "metadata": {
    "id": "6CwL6oWj_qRH"
   },
   "outputs": [
    {
     "name": "stdout",
     "output_type": "stream",
     "text": [
      "Missing Values Analysis:\n",
      "Total missing values per column:\n",
      "destination                 0\n",
      "passanger                   0\n",
      "weather                     0\n",
      "temperature                 0\n",
      "time                        0\n",
      "coupon                      0\n",
      "expiration                  0\n",
      "gender                      0\n",
      "age                         0\n",
      "maritalStatus               0\n",
      "has_children                0\n",
      "education                   0\n",
      "occupation                  0\n",
      "income                      0\n",
      "car                     12576\n",
      "Bar                       107\n",
      "CoffeeHouse               217\n",
      "CarryAway                 151\n",
      "RestaurantLessThan20      130\n",
      "Restaurant20To50          189\n",
      "toCoupon_GEQ5min            0\n",
      "toCoupon_GEQ15min           0\n",
      "toCoupon_GEQ25min           0\n",
      "direction_same              0\n",
      "direction_opp               0\n",
      "Y                           0\n",
      "dtype: int64\n",
      "\n",
      "Columns with missing values: ['car', 'Bar', 'CoffeeHouse', 'CarryAway', 'RestaurantLessThan20', 'Restaurant20To50']\n",
      "Total rows with missing values: 12576\n",
      "\n",
      "\n",
      "Duplicate Check:\n",
      "Number of duplicate rows: 74\n",
      "\n",
      "\n",
      "Data Validation Checks:\n",
      "Age distribution:\n",
      "age\n",
      "21         2653\n",
      "26         2559\n",
      "31         2039\n",
      "36         1319\n",
      "41         1093\n",
      "46          686\n",
      "50plus     1788\n",
      "below21     547\n",
      "Name: count, dtype: int64\n",
      "\n",
      "Temperature values:\n",
      "[55 80 30]\n",
      "\n",
      "Time values:\n",
      "['2PM' '10AM' '6PM' '7AM' '10PM']\n"
     ]
    }
   ],
   "source": [
    "# Check missing values\n",
    "print(\"Missing Values Analysis:\")\n",
    "print(\"Total missing values per column:\")\n",
    "print(data.isnull().sum())\n",
    "print(\"\\nColumns with missing values:\", data.columns[data.isnull().any()].tolist())\n",
    "print(\"Total rows with missing values:\", data.isnull().any(axis=1).sum())\n",
    "      \n",
    "# Check for duplicates\n",
    "print(\"\\n\\nDuplicate Check:\")\n",
    "print(\"Number of duplicate rows:\", data.duplicated().sum())\n",
    "\n",
    "# Check for illogical values\n",
    "print(\"\\n\\nData Validation Checks:\")\n",
    "# (1) Age validation\n",
    "print(\"Age distribution:\")\n",
    "print(data['age'].value_counts().sort_index())\n",
    "\n",
    "# (2) Temperature validation\n",
    "print(\"\\nTemperature values:\")\n",
    "print(data['temperature'].unique())\n",
    "\n",
    "# (3) Time validation\n",
    "print(\"\\nTime values:\")\n",
    "print(data['time'].unique())"
   ]
  },
  {
   "cell_type": "markdown",
   "metadata": {
    "id": "bSdVSpYB_qRH"
   },
   "source": [
    "3. Decide what to do about your missing data -- drop, replace, other..."
   ]
  },
  {
   "cell_type": "code",
   "execution_count": 7,
   "metadata": {
    "id": "tyvoAC5F_qRI"
   },
   "outputs": [
    {
     "name": "stdout",
     "output_type": "stream",
     "text": [
      "<class 'pandas.core.frame.DataFrame'>\n",
      "RangeIndex: 12684 entries, 0 to 12683\n",
      "Data columns (total 25 columns):\n",
      " #   Column                Non-Null Count  Dtype \n",
      "---  ------                --------------  ----- \n",
      " 0   destination           12684 non-null  object\n",
      " 1   passanger             12684 non-null  object\n",
      " 2   weather               12684 non-null  object\n",
      " 3   temperature           12684 non-null  int64 \n",
      " 4   time                  12684 non-null  object\n",
      " 5   coupon                12684 non-null  object\n",
      " 6   expiration            12684 non-null  object\n",
      " 7   gender                12684 non-null  object\n",
      " 8   age                   12684 non-null  object\n",
      " 9   maritalStatus         12684 non-null  object\n",
      " 10  has_children          12684 non-null  int64 \n",
      " 11  education             12684 non-null  object\n",
      " 12  occupation            12684 non-null  object\n",
      " 13  income                12684 non-null  object\n",
      " 14  Bar                   12684 non-null  object\n",
      " 15  CoffeeHouse           12684 non-null  object\n",
      " 16  CarryAway             12684 non-null  object\n",
      " 17  RestaurantLessThan20  12684 non-null  object\n",
      " 18  Restaurant20To50      12684 non-null  object\n",
      " 19  toCoupon_GEQ5min      12684 non-null  int64 \n",
      " 20  toCoupon_GEQ15min     12684 non-null  int64 \n",
      " 21  toCoupon_GEQ25min     12684 non-null  int64 \n",
      " 22  direction_same        12684 non-null  int64 \n",
      " 23  direction_opp         12684 non-null  int64 \n",
      " 24  Y                     12684 non-null  int64 \n",
      "dtypes: int64(8), object(17)\n",
      "memory usage: 2.4+ MB\n",
      "Missing values after cleaning:\n",
      " destination             0\n",
      "passanger               0\n",
      "weather                 0\n",
      "temperature             0\n",
      "time                    0\n",
      "coupon                  0\n",
      "expiration              0\n",
      "gender                  0\n",
      "age                     0\n",
      "maritalStatus           0\n",
      "has_children            0\n",
      "education               0\n",
      "occupation              0\n",
      "income                  0\n",
      "Bar                     0\n",
      "CoffeeHouse             0\n",
      "CarryAway               0\n",
      "RestaurantLessThan20    0\n",
      "Restaurant20To50        0\n",
      "toCoupon_GEQ5min        0\n",
      "toCoupon_GEQ15min       0\n",
      "toCoupon_GEQ25min       0\n",
      "direction_same          0\n",
      "direction_opp           0\n",
      "Y                       0\n",
      "dtype: int64\n",
      "\n",
      "Number of duplicate rows after cleaning: 74\n"
     ]
    }
   ],
   "source": [
    "# Drop the 'car' column due to excessive missing values\n",
    "data_cleaned = data.drop(columns=['car']).copy()\n",
    "\n",
    "# Fill missing values in categorical columns \n",
    "columns_to_fill = ['Bar', 'CoffeeHouse', 'CarryAway', 'RestaurantLessThan20', 'Restaurant20To50']\n",
    "for col in columns_to_fill:\n",
    "    most_frequent = data_cleaned[col].mode()[0]  # Get the most common value\n",
    "    data_cleaned[col] = data_cleaned[col].fillna(most_frequent)  # Correct assignment\n",
    "\n",
    "data_cleaned.info()\n",
    "\n",
    "missing_values_after_cleaning = data_cleaned.isnull().sum()\n",
    "duplicates_after_cleaning = data_cleaned.duplicated().sum()\n",
    "\n",
    "print(\"Missing values after cleaning:\\n\", missing_values_after_cleaning)\n",
    "print(\"\\nNumber of duplicate rows after cleaning:\", duplicates_after_cleaning)"
   ]
  },
  {
   "cell_type": "markdown",
   "metadata": {
    "id": "YE6oJbXd_qRI"
   },
   "source": [
    "4. What proportion of the total observations chose to accept the coupon?\n",
    "\n"
   ]
  },
  {
   "cell_type": "code",
   "execution_count": 8,
   "metadata": {
    "id": "86GGqBTv_qRI"
   },
   "outputs": [
    {
     "name": "stdout",
     "output_type": "stream",
     "text": [
      "Proportion of observations that accepted the coupon: 56.84%\n"
     ]
    }
   ],
   "source": [
    "accept_coupon_proportion = data_cleaned['Y'].mean()\n",
    "print(f\"Proportion of observations that accepted the coupon: {accept_coupon_proportion:.2%}\")"
   ]
  },
  {
   "cell_type": "markdown",
   "metadata": {
    "id": "vflz0DoE_qRI"
   },
   "source": [
    "5. Use a bar plot to visualize the `coupon` column."
   ]
  },
  {
   "cell_type": "code",
   "execution_count": 9,
   "metadata": {
    "id": "dHFh3E45_qRI"
   },
   "outputs": [
    {
     "data": {
      "image/png": "[encoded data removed]",
      "text/plain": [
       "<Figure size 1000x500 with 1 Axes>"
      ]
     },
     "metadata": {},
     "output_type": "display_data"
    }
   ],
   "source": [
    "plt.figure(figsize=(10, 5))\n",
    "sns.countplot(\n",
    "    data=data_cleaned,\n",
    "    x='coupon',\n",
    "    order=data_cleaned['coupon'].value_counts().index,\n",
    "    hue='coupon',  \n",
    "    legend=False,  \n",
    "    palette=\"viridis\")\n",
    "\n",
    "plt.title(\"Distribution of Coupon Types\", fontsize=14)\n",
    "plt.xlabel(\"Coupon Type\", fontsize=12)\n",
    "plt.ylabel(\"Count\", fontsize=12)\n",
    "plt.xticks(rotation=45)  \n",
    "\n",
    "plt.show()"
   ]
  },
  {
   "cell_type": "markdown",
   "metadata": {
    "id": "Qw4lCyx2_qRI"
   },
   "source": [
    "6. Use a histogram to visualize the temperature column."
   ]
  },
  {
   "cell_type": "code",
   "execution_count": 10,
   "metadata": {
    "id": "Yg9Anv71_qRI"
   },
   "outputs": [
    {
     "data": {
      "image/png": "[encoded data removed]",
      "text/plain": [
       "<Figure size 800x500 with 1 Axes>"
      ]
     },
     "metadata": {},
     "output_type": "display_data"
    }
   ],
   "source": [
    "plt.figure(figsize=(8, 5))\n",
    "sns.histplot(data=data_cleaned, x='temperature', bins=10, kde=True, color=\"blue\")\n",
    "plt.title(\"Distribution of Temperature\", fontsize=14)\n",
    "plt.xlabel(\"Temperature (°F)\", fontsize=12)\n",
    "plt.ylabel(\"Frequency\", fontsize=12)\n",
    "plt.show()"
   ]
  },
  {
   "cell_type": "code",
   "execution_count": null,
   "metadata": {
    "id": "zLtOaJQk_qRI"
   },
   "outputs": [],
   "source": []
  },
  {
   "cell_type": "code",
   "execution_count": null,
   "metadata": {
    "id": "7GBHZKBp_qRJ"
   },
   "outputs": [],
   "source": []
  },
  {
   "cell_type": "code",
   "execution_count": null,
   "metadata": {
    "id": "Y5nBUA-j_qRJ"
   },
   "outputs": [],
   "source": []
  },
  {
   "cell_type": "code",
   "execution_count": null,
   "metadata": {
    "id": "ShcUC-Vm_qRJ"
   },
   "outputs": [],
   "source": []
  },
  {
   "cell_type": "markdown",
   "metadata": {
    "id": "FupfgeJk_qRJ"
   },
   "source": [
    "**Investigating the Bar Coupons**\n",
    "\n",
    "Now, we will lead you through an exploration of just the bar related coupons.  \n",
    "\n",
    "1. Create a new `DataFrame` that contains just the bar coupons.\n"
   ]
  },
  {
   "cell_type": "code",
   "execution_count": 11,
   "metadata": {
    "id": "tMBlWuGq_qRJ"
   },
   "outputs": [
    {
     "data": {
      "text/html": [
       "<div>\n",
       "<style scoped>\n",
       "    .dataframe tbody tr th:only-of-type {\n",
       "        vertical-align: middle;\n",
       "    }\n",
       "\n",
       "    .dataframe tbody tr th {\n",
       "        vertical-align: top;\n",
       "    }\n",
       "\n",
       "    .dataframe thead th {\n",
       "        text-align: right;\n",
       "    }\n",
       "</style>\n",
       "<table border=\"1\" class=\"dataframe\">\n",
       "  <thead>\n",
       "    <tr style=\"text-align: right;\">\n",
       "      <th></th>\n",
       "      <th>destination</th>\n",
       "      <th>passanger</th>\n",
       "      <th>weather</th>\n",
       "      <th>temperature</th>\n",
       "      <th>time</th>\n",
       "      <th>coupon</th>\n",
       "      <th>expiration</th>\n",
       "      <th>gender</th>\n",
       "      <th>age</th>\n",
       "      <th>maritalStatus</th>\n",
       "      <th>...</th>\n",
       "      <th>CoffeeHouse</th>\n",
       "      <th>CarryAway</th>\n",
       "      <th>RestaurantLessThan20</th>\n",
       "      <th>Restaurant20To50</th>\n",
       "      <th>toCoupon_GEQ5min</th>\n",
       "      <th>toCoupon_GEQ15min</th>\n",
       "      <th>toCoupon_GEQ25min</th>\n",
       "      <th>direction_same</th>\n",
       "      <th>direction_opp</th>\n",
       "      <th>Y</th>\n",
       "    </tr>\n",
       "  </thead>\n",
       "  <tbody>\n",
       "    <tr>\n",
       "      <th>9</th>\n",
       "      <td>No Urgent Place</td>\n",
       "      <td>Kid(s)</td>\n",
       "      <td>Sunny</td>\n",
       "      <td>80</td>\n",
       "      <td>10AM</td>\n",
       "      <td>Bar</td>\n",
       "      <td>1d</td>\n",
       "      <td>Female</td>\n",
       "      <td>21</td>\n",
       "      <td>Unmarried partner</td>\n",
       "      <td>...</td>\n",
       "      <td>never</td>\n",
       "      <td>1~3</td>\n",
       "      <td>4~8</td>\n",
       "      <td>1~3</td>\n",
       "      <td>1</td>\n",
       "      <td>1</td>\n",
       "      <td>0</td>\n",
       "      <td>0</td>\n",
       "      <td>1</td>\n",
       "      <td>0</td>\n",
       "    </tr>\n",
       "    <tr>\n",
       "      <th>13</th>\n",
       "      <td>Home</td>\n",
       "      <td>Alone</td>\n",
       "      <td>Sunny</td>\n",
       "      <td>55</td>\n",
       "      <td>6PM</td>\n",
       "      <td>Bar</td>\n",
       "      <td>1d</td>\n",
       "      <td>Female</td>\n",
       "      <td>21</td>\n",
       "      <td>Unmarried partner</td>\n",
       "      <td>...</td>\n",
       "      <td>never</td>\n",
       "      <td>1~3</td>\n",
       "      <td>4~8</td>\n",
       "      <td>1~3</td>\n",
       "      <td>1</td>\n",
       "      <td>0</td>\n",
       "      <td>0</td>\n",
       "      <td>1</td>\n",
       "      <td>0</td>\n",
       "      <td>1</td>\n",
       "    </tr>\n",
       "    <tr>\n",
       "      <th>17</th>\n",
       "      <td>Work</td>\n",
       "      <td>Alone</td>\n",
       "      <td>Sunny</td>\n",
       "      <td>55</td>\n",
       "      <td>7AM</td>\n",
       "      <td>Bar</td>\n",
       "      <td>1d</td>\n",
       "      <td>Female</td>\n",
       "      <td>21</td>\n",
       "      <td>Unmarried partner</td>\n",
       "      <td>...</td>\n",
       "      <td>never</td>\n",
       "      <td>1~3</td>\n",
       "      <td>4~8</td>\n",
       "      <td>1~3</td>\n",
       "      <td>1</td>\n",
       "      <td>1</td>\n",
       "      <td>1</td>\n",
       "      <td>0</td>\n",
       "      <td>1</td>\n",
       "      <td>0</td>\n",
       "    </tr>\n",
       "    <tr>\n",
       "      <th>24</th>\n",
       "      <td>No Urgent Place</td>\n",
       "      <td>Friend(s)</td>\n",
       "      <td>Sunny</td>\n",
       "      <td>80</td>\n",
       "      <td>10AM</td>\n",
       "      <td>Bar</td>\n",
       "      <td>1d</td>\n",
       "      <td>Male</td>\n",
       "      <td>21</td>\n",
       "      <td>Single</td>\n",
       "      <td>...</td>\n",
       "      <td>less1</td>\n",
       "      <td>4~8</td>\n",
       "      <td>4~8</td>\n",
       "      <td>less1</td>\n",
       "      <td>1</td>\n",
       "      <td>0</td>\n",
       "      <td>0</td>\n",
       "      <td>0</td>\n",
       "      <td>1</td>\n",
       "      <td>1</td>\n",
       "    </tr>\n",
       "    <tr>\n",
       "      <th>35</th>\n",
       "      <td>Home</td>\n",
       "      <td>Alone</td>\n",
       "      <td>Sunny</td>\n",
       "      <td>55</td>\n",
       "      <td>6PM</td>\n",
       "      <td>Bar</td>\n",
       "      <td>1d</td>\n",
       "      <td>Male</td>\n",
       "      <td>21</td>\n",
       "      <td>Single</td>\n",
       "      <td>...</td>\n",
       "      <td>less1</td>\n",
       "      <td>4~8</td>\n",
       "      <td>4~8</td>\n",
       "      <td>less1</td>\n",
       "      <td>1</td>\n",
       "      <td>0</td>\n",
       "      <td>0</td>\n",
       "      <td>1</td>\n",
       "      <td>0</td>\n",
       "      <td>1</td>\n",
       "    </tr>\n",
       "  </tbody>\n",
       "</table>\n",
       "<p>5 rows × 25 columns</p>\n",
       "</div>"
      ],
      "text/plain": [
       "        destination  passanger weather  temperature  time coupon expiration  \\\n",
       "9   No Urgent Place     Kid(s)   Sunny           80  10AM    Bar         1d   \n",
       "13             Home      Alone   Sunny           55   6PM    Bar         1d   \n",
       "17             Work      Alone   Sunny           55   7AM    Bar         1d   \n",
       "24  No Urgent Place  Friend(s)   Sunny           80  10AM    Bar         1d   \n",
       "35             Home      Alone   Sunny           55   6PM    Bar         1d   \n",
       "\n",
       "    gender age      maritalStatus  ...  CoffeeHouse CarryAway  \\\n",
       "9   Female  21  Unmarried partner  ...        never       1~3   \n",
       "13  Female  21  Unmarried partner  ...        never       1~3   \n",
       "17  Female  21  Unmarried partner  ...        never       1~3   \n",
       "24    Male  21             Single  ...        less1       4~8   \n",
       "35    Male  21             Single  ...        less1       4~8   \n",
       "\n",
       "   RestaurantLessThan20 Restaurant20To50 toCoupon_GEQ5min toCoupon_GEQ15min  \\\n",
       "9                   4~8              1~3                1                 1   \n",
       "13                  4~8              1~3                1                 0   \n",
       "17                  4~8              1~3                1                 1   \n",
       "24                  4~8            less1                1                 0   \n",
       "35                  4~8            less1                1                 0   \n",
       "\n",
       "   toCoupon_GEQ25min direction_same direction_opp  Y  \n",
       "9                  0              0             1  0  \n",
       "13                 0              1             0  1  \n",
       "17                 1              0             1  0  \n",
       "24                 0              0             1  1  \n",
       "35                 0              1             0  1  \n",
       "\n",
       "[5 rows x 25 columns]"
      ]
     },
     "execution_count": 11,
     "metadata": {},
     "output_type": "execute_result"
    }
   ],
   "source": [
    "bar_coupons_df = data_cleaned[data_cleaned['coupon'].str.contains(\"Bar\", case=False, na=False)]\n",
    "bar_coupons_df.head()"
   ]
  },
  {
   "cell_type": "markdown",
   "metadata": {
    "id": "8ue6uCqf_qRJ"
   },
   "source": [
    "2. What proportion of bar coupons were accepted?\n"
   ]
  },
  {
   "cell_type": "code",
   "execution_count": 12,
   "metadata": {
    "id": "hSdte8Mi_qRK"
   },
   "outputs": [
    {
     "name": "stdout",
     "output_type": "stream",
     "text": [
      "Proportion of bar coupons were accepted: 41.00%\n"
     ]
    }
   ],
   "source": [
    "bar_coupon_accept_rate = bar_coupons_df['Y'].mean()\n",
    "print(f\"Proportion of bar coupons were accepted: {bar_coupon_accept_rate:.2%}\")"
   ]
  },
  {
   "cell_type": "markdown",
   "metadata": {
    "id": "85nA_iEi_qRK"
   },
   "source": [
    "3. Compare the acceptance rate between those who went to a bar 3 or fewer times a month to those who went more.\n"
   ]
  },
  {
   "cell_type": "code",
   "execution_count": 13,
   "metadata": {
    "id": "LBOrN-XM_qRK"
   },
   "outputs": [
    {
     "name": "stdout",
     "output_type": "stream",
     "text": [
      "Acceptance rate for those who went to a bar 3 or fewer times a month: 52.74%\n",
      "Acceptance rate for those who went to a bar more than 3 times a month: 76.88%\n"
     ]
    }
   ],
   "source": [
    "low_bar_frequency = [\"0\", \"less1\", \"1~3\"]\n",
    "high_bar_frequency = [\"4~8\", \"gt8\"]\n",
    "\n",
    "low_bar_visitors = bar_coupons_df[bar_coupons_df['Bar'].isin(low_bar_frequency)]\n",
    "high_bar_visitors = bar_coupons_df[bar_coupons_df['Bar'].isin(high_bar_frequency)]\n",
    "\n",
    "low_bar_accept_rate = low_bar_visitors['Y'].mean()\n",
    "high_bar_accept_rate = high_bar_visitors['Y'].mean()\n",
    "\n",
    "print(f\"Acceptance rate for those who went to a bar 3 or fewer times a month: {low_bar_accept_rate:.2%}\")\n",
    "print(f\"Acceptance rate for those who went to a bar more than 3 times a month: {high_bar_accept_rate:.2%}\")"
   ]
  },
  {
   "cell_type": "markdown",
   "metadata": {
    "id": "RBgcQwH4_qRK"
   },
   "source": [
    "4. Compare the acceptance rate between drivers who go to a bar more than once a month and are over the age of 25 to the all others.  Is there a difference?\n"
   ]
  },
  {
   "cell_type": "code",
   "execution_count": 14,
   "metadata": {
    "id": "bf28bbeX_qRK"
   },
   "outputs": [
    {
     "name": "stdout",
     "output_type": "stream",
     "text": [
      "Acceptance rate for drivers who go to a bar more than once a month and are over 25: 67.16%\n",
      "Acceptance rate for all other drivers: 40.10%\n"
     ]
    }
   ],
   "source": [
    "frequent_bar_categories = [\"1~3\", \"4~8\", \"gt8\"]  \n",
    "age_over_25_categories = [\"26-30\", \"31-35\", \"36-40\", \"41-50\", \"50plus\"]  \n",
    "\n",
    "frequent_bar_over_25 = bar_coupons_df[(bar_coupons_df['Bar'].isin(frequent_bar_categories)) & (bar_coupons_df['age'].isin(age_over_25_categories))]\n",
    "\n",
    "all_others = bar_coupons_df[~bar_coupons_df.index.isin(frequent_bar_over_25.index)]\n",
    "\n",
    "frequent_bar_over_25_acceptance = frequent_bar_over_25['Y'].mean()\n",
    "all_others_acceptance = all_others['Y'].mean()\n",
    "\n",
    "print(f\"Acceptance rate for drivers who go to a bar more than once a month and are over 25: {frequent_bar_over_25_acceptance:.2%}\")\n",
    "print(f\"Acceptance rate for all other drivers: {all_others_acceptance:.2%}\")"
   ]
  },
  {
   "cell_type": "markdown",
   "metadata": {
    "id": "S4RKT4PJ_qRK"
   },
   "source": [
    "5. Use the same process to compare the acceptance rate between drivers who go to bars more than once a month and had passengers that were not a kid and had occupations other than farming, fishing, or forestry.\n"
   ]
  },
  {
   "cell_type": "code",
   "execution_count": 15,
   "metadata": {
    "id": "sENaI2Tg_qRK"
   },
   "outputs": [
    {
     "name": "stdout",
     "output_type": "stream",
     "text": [
      "Acceptance rate for drivers who go to bars more than once a month, had no kid passengers, and were not in farming, fishing, or forestry: 68.79%\n",
      "Acceptance rate for all other drivers: 29.35%\n"
     ]
    }
   ],
   "source": [
    "frequent_bar_categories = [\"1~3\", \"4~8\", \"gt8\"]  \n",
    "not_passengers = [\"kid(s)\"] \n",
    "not_occupations = [\"farming, fishing, or forestry\"]  \n",
    "\n",
    "drivers_frequent_bar_passenger_occupation = bar_coupons_df[(bar_coupons_df['Bar'].isin(frequent_bar_categories)) &\n",
    "    (~bar_coupons_df['passanger'].isin(not_passengers)) & (~bar_coupons_df['occupation'].isin(not_occupations))]\n",
    "\n",
    "all_others = bar_coupons_df[~bar_coupons_df.index.isin(drivers_frequent_bar_passenger_occupation.index)]\n",
    "\n",
    "frequent_bar_acceptance = drivers_frequent_bar_passenger_occupation['Y'].mean()\n",
    "all_others_acceptance = all_others['Y'].mean()\n",
    "\n",
    "print(f\"Acceptance rate for drivers who go to bars more than once a month, had no kid passengers, \"\n",
    "      f\"and were not in farming, fishing, or forestry: {frequent_bar_acceptance:.2%}\")\n",
    "print(f\"Acceptance rate for all other drivers: {all_others_acceptance:.2%}\")"
   ]
  },
  {
   "cell_type": "markdown",
   "metadata": {
    "id": "n2LIUTil_qRK"
   },
   "source": [
    "6. Compare the acceptance rates between those drivers who:\n",
    "\n",
    "- go to bars more than once a month, had passengers that were not a kid, and were not widowed *OR*\n",
    "- go to bars more than once a month and are under the age of 30 *OR*\n",
    "- go to cheap restaurants more than 4 times a month and income is less than 50K.\n",
    "\n"
   ]
  },
  {
   "cell_type": "code",
   "execution_count": 18,
   "metadata": {
    "id": "aK_wEzx7_qRK",
    "scrolled": true
   },
   "outputs": [
    {
     "name": "stdout",
     "output_type": "stream",
     "text": [
      "Acceptance rate for drivers who go to bars more than once a month, had passengers that were not a kid, and were not widowed: 0.00%\n",
      "Acceptance rate for drivers who go to bars more than once a month and are under 30: 40.00%\n",
      "Acceptance rate for drivers who go to cheap restaurants more than 4 times a month and earn less than 50K: 45.76%\n"
     ]
    }
   ],
   "source": [
    "frequent_bar_visitors = [\"1~3\", \"4~8\", \"gt8\"]  \n",
    "non_kid_passengers = [\"alone\", \"partner\", \"friend(s)\"]  \n",
    "not_widowed = [status for status in bar_coupons_df['maritalStatus'].unique() if \"widowed\" not in status] \n",
    "under_30 = [\"below21\", \"21-25\", \"26-30\"] \n",
    "cheap_restaurant_frequent_visitors = [\"4~8\", \"gt8\"]  \n",
    "low_income = [\"less than $12500\", \"$12500 - $24999\", \"$25000 - $37499\", \"$37500 - $49999\"]  \n",
    "\n",
    "first_group = bar_coupons_df[(bar_coupons_df['Bar'].isin(frequent_bar_visitors)) &\n",
    "    (bar_coupons_df['passanger'].isin(non_kid_passengers)) & (bar_coupons_df['maritalStatus'].isin(not_widowed))]\n",
    "second_group = bar_coupons_df[(bar_coupons_df['Bar'].isin(frequent_bar_visitors)) & (bar_coupons_df['age'].isin(under_30))]\n",
    "third_group = bar_coupons_df[(bar_coupons_df['RestaurantLessThan20'].isin(cheap_restaurant_frequent_visitors)) & (bar_coupons_df['income'].isin(low_income))]\n",
    "\n",
    "group1_acceptance = first_group['Y'].mean() if not first_group.empty else 0  \n",
    "group2_acceptance = second_group['Y'].mean()\n",
    "group3_acceptance = third_group['Y'].mean()\n",
    "\n",
    "print(f\"Acceptance rate for drivers who go to bars more than once a month, had passengers that were not a kid, and were not widowed: {group1_acceptance:.2%}\")\n",
    "print(f\"Acceptance rate for drivers who go to bars more than once a month and are under 30: {group2_acceptance:.2%}\")\n",
    "print(f\"Acceptance rate for drivers who go to cheap restaurants more than 4 times a month and earn less than 50K: {group3_acceptance:.2%}\")"
   ]
  },
  {
   "cell_type": "markdown",
   "metadata": {
    "id": "v3fL3QkO_qRK"
   },
   "source": [
    "7.  Based on these observations, what do you hypothesize about drivers who accepted the bar coupons?"
   ]
  },
  {
   "cell_type": "code",
   "execution_count": null,
   "metadata": {
    "id": "Y48naDFh_qRL"
   },
   "outputs": [],
   "source": [
    "# 1.Frequent bar-goers are more likely to accept coupons: Drivers who visit bars more than three times a month exhibit higher acceptance rates compared to those who visit three or fewer times monthly.\n",
    "# 2.Older frequent bar-goers (25+) show higher coupon acceptance: Drivers over 25 who frequent bars more than once a month accept coupons at higher rates than all other demographic groups.\n",
    "# 3.Social drivers without children accept coupons more often: Coupon acceptance is elevated among drivers who visit bars frequently (>1x/month), travel with non-child passengers, and work outside farming, fishing, or forestry occupations.\n",
    "# 4.Younger frequent bar-goers (<30) show some willingness to accept coupons: About 40% of drivers under 30 who visit bars more than once a month accept bar coupons.\n",
    "# 5.Cost-conscious individuals favor coupons: Drivers earning under $50K annually and frequenting low-cost restaurants (4+ times/month) demonstrate higher bar coupon acceptance.\n",
    "# 6.Drivers who go to bars more than once a month, had passengers that were not a kid, and were not widowed would not accept the coupons. \n"
   ]
  },
  {
   "cell_type": "markdown",
   "metadata": {
    "id": "r4Hu1zOb_qRL"
   },
   "source": [
    "### Independent Investigation\n",
    "\n",
    "Using the bar coupon example as motivation, you are to explore one of the other coupon groups and try to determine the characteristics of passengers who accept the coupons.  "
   ]
  },
  {
   "cell_type": "code",
   "execution_count": 20,
   "metadata": {
    "id": "0c71cQhu_qRL"
   },
   "outputs": [
    {
     "data": {
      "text/html": [
       "<div>\n",
       "<style scoped>\n",
       "    .dataframe tbody tr th:only-of-type {\n",
       "        vertical-align: middle;\n",
       "    }\n",
       "\n",
       "    .dataframe tbody tr th {\n",
       "        vertical-align: top;\n",
       "    }\n",
       "\n",
       "    .dataframe thead th {\n",
       "        text-align: right;\n",
       "    }\n",
       "</style>\n",
       "<table border=\"1\" class=\"dataframe\">\n",
       "  <thead>\n",
       "    <tr style=\"text-align: right;\">\n",
       "      <th></th>\n",
       "      <th>destination</th>\n",
       "      <th>passanger</th>\n",
       "      <th>weather</th>\n",
       "      <th>temperature</th>\n",
       "      <th>time</th>\n",
       "      <th>coupon</th>\n",
       "      <th>expiration</th>\n",
       "      <th>gender</th>\n",
       "      <th>age</th>\n",
       "      <th>maritalStatus</th>\n",
       "      <th>...</th>\n",
       "      <th>CoffeeHouse</th>\n",
       "      <th>CarryAway</th>\n",
       "      <th>RestaurantLessThan20</th>\n",
       "      <th>Restaurant20To50</th>\n",
       "      <th>toCoupon_GEQ5min</th>\n",
       "      <th>toCoupon_GEQ15min</th>\n",
       "      <th>toCoupon_GEQ25min</th>\n",
       "      <th>direction_same</th>\n",
       "      <th>direction_opp</th>\n",
       "      <th>Y</th>\n",
       "    </tr>\n",
       "  </thead>\n",
       "  <tbody>\n",
       "    <tr>\n",
       "      <th>14</th>\n",
       "      <td>Home</td>\n",
       "      <td>Alone</td>\n",
       "      <td>Sunny</td>\n",
       "      <td>55</td>\n",
       "      <td>6PM</td>\n",
       "      <td>Restaurant(20-50)</td>\n",
       "      <td>1d</td>\n",
       "      <td>Female</td>\n",
       "      <td>21</td>\n",
       "      <td>Unmarried partner</td>\n",
       "      <td>...</td>\n",
       "      <td>never</td>\n",
       "      <td>1~3</td>\n",
       "      <td>4~8</td>\n",
       "      <td>1~3</td>\n",
       "      <td>1</td>\n",
       "      <td>1</td>\n",
       "      <td>0</td>\n",
       "      <td>0</td>\n",
       "      <td>1</td>\n",
       "      <td>1</td>\n",
       "    </tr>\n",
       "    <tr>\n",
       "      <th>18</th>\n",
       "      <td>Work</td>\n",
       "      <td>Alone</td>\n",
       "      <td>Sunny</td>\n",
       "      <td>80</td>\n",
       "      <td>7AM</td>\n",
       "      <td>Restaurant(20-50)</td>\n",
       "      <td>1d</td>\n",
       "      <td>Female</td>\n",
       "      <td>21</td>\n",
       "      <td>Unmarried partner</td>\n",
       "      <td>...</td>\n",
       "      <td>never</td>\n",
       "      <td>1~3</td>\n",
       "      <td>4~8</td>\n",
       "      <td>1~3</td>\n",
       "      <td>1</td>\n",
       "      <td>1</td>\n",
       "      <td>0</td>\n",
       "      <td>0</td>\n",
       "      <td>1</td>\n",
       "      <td>1</td>\n",
       "    </tr>\n",
       "    <tr>\n",
       "      <th>36</th>\n",
       "      <td>Home</td>\n",
       "      <td>Alone</td>\n",
       "      <td>Sunny</td>\n",
       "      <td>55</td>\n",
       "      <td>6PM</td>\n",
       "      <td>Restaurant(20-50)</td>\n",
       "      <td>1d</td>\n",
       "      <td>Male</td>\n",
       "      <td>21</td>\n",
       "      <td>Single</td>\n",
       "      <td>...</td>\n",
       "      <td>less1</td>\n",
       "      <td>4~8</td>\n",
       "      <td>4~8</td>\n",
       "      <td>less1</td>\n",
       "      <td>1</td>\n",
       "      <td>1</td>\n",
       "      <td>0</td>\n",
       "      <td>0</td>\n",
       "      <td>1</td>\n",
       "      <td>0</td>\n",
       "    </tr>\n",
       "    <tr>\n",
       "      <th>40</th>\n",
       "      <td>Work</td>\n",
       "      <td>Alone</td>\n",
       "      <td>Sunny</td>\n",
       "      <td>80</td>\n",
       "      <td>7AM</td>\n",
       "      <td>Restaurant(20-50)</td>\n",
       "      <td>1d</td>\n",
       "      <td>Male</td>\n",
       "      <td>21</td>\n",
       "      <td>Single</td>\n",
       "      <td>...</td>\n",
       "      <td>less1</td>\n",
       "      <td>4~8</td>\n",
       "      <td>4~8</td>\n",
       "      <td>less1</td>\n",
       "      <td>1</td>\n",
       "      <td>1</td>\n",
       "      <td>0</td>\n",
       "      <td>0</td>\n",
       "      <td>1</td>\n",
       "      <td>0</td>\n",
       "    </tr>\n",
       "    <tr>\n",
       "      <th>58</th>\n",
       "      <td>Home</td>\n",
       "      <td>Alone</td>\n",
       "      <td>Sunny</td>\n",
       "      <td>55</td>\n",
       "      <td>6PM</td>\n",
       "      <td>Restaurant(20-50)</td>\n",
       "      <td>1d</td>\n",
       "      <td>Male</td>\n",
       "      <td>46</td>\n",
       "      <td>Single</td>\n",
       "      <td>...</td>\n",
       "      <td>4~8</td>\n",
       "      <td>1~3</td>\n",
       "      <td>1~3</td>\n",
       "      <td>never</td>\n",
       "      <td>1</td>\n",
       "      <td>1</td>\n",
       "      <td>0</td>\n",
       "      <td>0</td>\n",
       "      <td>1</td>\n",
       "      <td>0</td>\n",
       "    </tr>\n",
       "  </tbody>\n",
       "</table>\n",
       "<p>5 rows × 25 columns</p>\n",
       "</div>"
      ],
      "text/plain": [
       "   destination passanger weather  temperature time             coupon  \\\n",
       "14        Home     Alone   Sunny           55  6PM  Restaurant(20-50)   \n",
       "18        Work     Alone   Sunny           80  7AM  Restaurant(20-50)   \n",
       "36        Home     Alone   Sunny           55  6PM  Restaurant(20-50)   \n",
       "40        Work     Alone   Sunny           80  7AM  Restaurant(20-50)   \n",
       "58        Home     Alone   Sunny           55  6PM  Restaurant(20-50)   \n",
       "\n",
       "   expiration  gender age      maritalStatus  ...  CoffeeHouse CarryAway  \\\n",
       "14         1d  Female  21  Unmarried partner  ...        never       1~3   \n",
       "18         1d  Female  21  Unmarried partner  ...        never       1~3   \n",
       "36         1d    Male  21             Single  ...        less1       4~8   \n",
       "40         1d    Male  21             Single  ...        less1       4~8   \n",
       "58         1d    Male  46             Single  ...          4~8       1~3   \n",
       "\n",
       "   RestaurantLessThan20 Restaurant20To50 toCoupon_GEQ5min toCoupon_GEQ15min  \\\n",
       "14                  4~8              1~3                1                 1   \n",
       "18                  4~8              1~3                1                 1   \n",
       "36                  4~8            less1                1                 1   \n",
       "40                  4~8            less1                1                 1   \n",
       "58                  1~3            never                1                 1   \n",
       "\n",
       "   toCoupon_GEQ25min direction_same direction_opp  Y  \n",
       "14                 0              0             1  1  \n",
       "18                 0              0             1  1  \n",
       "36                 0              0             1  0  \n",
       "40                 0              0             1  0  \n",
       "58                 0              0             1  0  \n",
       "\n",
       "[5 rows x 25 columns]"
      ]
     },
     "execution_count": 20,
     "metadata": {},
     "output_type": "execute_result"
    }
   ],
   "source": [
    "# Filter dataset for More Expensive Restaurant ($20 - $50) coupons\n",
    "expensive_restaurant_coupons_df = data_cleaned[data_cleaned['coupon'].str.contains(r\"Restaurant\\(20-50\\)\", case=False, na=False)]\n",
    "expensive_restaurant_coupons_df.head()"
   ]
  },
  {
   "cell_type": "code",
   "execution_count": 21,
   "metadata": {
    "id": "QEsBkvIN_qRL"
   },
   "outputs": [
    {
     "name": "stdout",
     "output_type": "stream",
     "text": [
      "Overall acceptance rate for expensive restaurant coupons: 44.10%\n"
     ]
    }
   ],
   "source": [
    "# Calculate overall acceptance rate for More Expensive Restaurant coupons\n",
    "expensive_restaurant_coupon_acceptance_rate = expensive_restaurant_coupons_df['Y'].mean()\n",
    "\n",
    "print(f\"Overall acceptance rate for expensive restaurant coupons: {expensive_restaurant_coupon_acceptance_rate:.2%}\")"
   ]
  },
  {
   "cell_type": "code",
   "execution_count": 27,
   "metadata": {
    "id": "fTC2WGE3_qRL"
   },
   "outputs": [
    {
     "name": "stdout",
     "output_type": "stream",
     "text": [
      "Acceptance rate for those who went to more expensive restaurants 3 or fewer times a month: 44.14%\n",
      "Acceptance rate for those who went to more expensive restaurants more than 3 times a month: 47.59%\n"
     ]
    }
   ],
   "source": [
    "# Compare the acceptance rate between those who went to an expensive restaurant 3 or fewer times a month to those who went more.\n",
    "low_expensive_restaurant_frequency = [\"0\", \"less1\", \"1~3\"]\n",
    "high_expensive_restaurant_frequency = [\"4~8\", \"gt8\"]\n",
    "\n",
    "low_expensive_restaurant_visitors = expensive_restaurant_coupons_df[expensive_restaurant_coupons_df['Bar'].isin(low_expensive_restaurant_frequency)]\n",
    "high_expensive_restaurant_visitors = expensive_restaurant_coupons_df[expensive_restaurant_coupons_df['Bar'].isin(high_expensive_restaurant_frequency)]\n",
    "\n",
    "low_expensive_restaurant_accept_rate = low_expensive_restaurant_visitors['Y'].mean()\n",
    "high_expensive_restaurant_accept_rate = high_expensive_restaurant_visitors['Y'].mean()\n",
    "\n",
    "print(f\"Acceptance rate for those who went to more expensive restaurants 3 or fewer times a month: {low_expensive_restaurant_accept_rate:.2%}\")\n",
    "print(f\"Acceptance rate for those who went to more expensive restaurants more than 3 times a month: {high_expensive_restaurant_accept_rate:.2%}\")"
   ]
  },
  {
   "cell_type": "code",
   "execution_count": 24,
   "metadata": {
    "id": "RrqUWn7d_qRL"
   },
   "outputs": [
    {
     "name": "stdout",
     "output_type": "stream",
     "text": [
      "Acceptance rate for drivers who go to an expensive restaurant more than once a month and are over 25: 43.48%\n",
      "Acceptance rate for all other drivers: 44.12%\n"
     ]
    }
   ],
   "source": [
    "# Compare the acceptance rate between drivers who go to an expensive restaurant more than once a month and are over the age of 25 to the all others. \n",
    "\n",
    "frequent_expensive_restaurant_categories = [\"1~3\", \"4~8\", \"gt8\"]  \n",
    "age_over_25_categories = [\"26-30\", \"31-35\", \"36-40\", \"41-50\", \"50plus\"]  \n",
    "frequent_expensive_restaurant_over_25 = expensive_restaurant_coupons_df[(expensive_restaurant_coupons_df['Bar'].isin(frequent_expensive_restaurant_categories)) & (expensive_restaurant_coupons_df['age'].isin(age_over_25_categories))]\n",
    "\n",
    "all_others = expensive_restaurant_coupons_df[~expensive_restaurant_coupons_df.index.isin(frequent_expensive_restaurant_over_25.index)]\n",
    "\n",
    "frequent_expensive_restaurant_over_25_acceptance = frequent_expensive_restaurant_over_25['Y'].mean()\n",
    "all_others_acceptance = all_others['Y'].mean()\n",
    "\n",
    "print(f\"Acceptance rate for drivers who go to an expensive restaurant more than once a month and are over 25: {frequent_expensive_restaurant_over_25_acceptance:.2%}\")\n",
    "print(f\"Acceptance rate for all other drivers: {all_others_acceptance:.2%}\")"
   ]
  },
  {
   "cell_type": "code",
   "execution_count": 25,
   "metadata": {
    "id": "_oykf8YP_qRL"
   },
   "outputs": [
    {
     "name": "stdout",
     "output_type": "stream",
     "text": [
      "Acceptance rate for drivers who go to expensive restaurants more than once a month, had no kid passengers, and were not in farming, fishing, or forestry: 47.45%\n",
      "Acceptance rate for all other drivers: 42.65%\n"
     ]
    }
   ],
   "source": [
    "# Use the same process to compare the acceptance rate between drivers who go to a more expensive restaurant more than once a month and had passengers that were not a kid and had occupations other than farming, fishing, or forestry.\n",
    "frequent_expensive_restaurant_categories = [\"1~3\", \"4~8\", \"gt8\"]  \n",
    "not_passengers = [\"kid(s)\"] \n",
    "not_occupations = [\"farming, fishing, or forestry\"]  \n",
    "\n",
    "drivers_frequent_expensive_restaurant_passenger_occupation = expensive_restaurant_coupons_df[(expensive_restaurant_coupons_df['Bar'].isin(frequent_expensive_restaurant_categories)) &\n",
    "    (~expensive_restaurant_coupons_df['passanger'].isin(not_passengers)) & (~expensive_restaurant_coupons_df['occupation'].isin(not_occupations))]\n",
    "\n",
    "all_others = expensive_restaurant_coupons_df[~expensive_restaurant_coupons_df.index.isin(drivers_frequent_expensive_restaurant_passenger_occupation.index)]\n",
    "\n",
    "frequent_expensive_restaurant_acceptance = drivers_frequent_expensive_restaurant_passenger_occupation['Y'].mean()\n",
    "all_others_acceptance = all_others['Y'].mean()\n",
    "\n",
    "print(f\"Acceptance rate for drivers who go to expensive restaurants more than once a month, had no kid passengers, \"\n",
    "      f\"and were not in farming, fishing, or forestry: {frequent_expensive_restaurant_acceptance:.2%}\")\n",
    "print(f\"Acceptance rate for all other drivers: {all_others_acceptance:.2%}\")"
   ]
  },
  {
   "cell_type": "code",
   "execution_count": 26,
   "metadata": {},
   "outputs": [
    {
     "name": "stdout",
     "output_type": "stream",
     "text": [
      "Acceptance rate for drivers who go to expensive restaurants more than once a month, had passengers that were not a kid, and were not widowed: 0.00%\n",
      "Acceptance rate for drivers who go to expensive restaurants more than once a month and are under 30: 56.25%\n",
      "Acceptance rate for drivers who go to cheap restaurants more than 4 times a month and earn less than 50K: 46.89%\n"
     ]
    }
   ],
   "source": [
    "# Compare the acceptance rates between those drivers who:\n",
    "# go to expensive restaurants more than once a month, had passengers that were not a kid, and were not widowed OR\n",
    "# go to expensive restaurants more than once a month and are under the age of 30 OR\n",
    "# go to cheap restaurants more than 4 times a month and income is less than 50K.\n",
    "\n",
    "frequent_expensive_restaurant_visitors = [\"1~3\", \"4~8\", \"gt8\"]  \n",
    "non_kid_passengers = [\"alone\", \"partner\", \"friend(s)\"]  \n",
    "not_widowed = [status for status in expensive_restaurant_coupons_df['maritalStatus'].unique() if \"widowed\" not in status] \n",
    "under_30 = [\"below21\", \"21-25\", \"26-30\"] \n",
    "cheap_restaurant_frequent_visitors = [\"4~8\", \"gt8\"]  \n",
    "low_income = [\"less than $12500\", \"$12500 - $24999\", \"$25000 - $37499\", \"$37500 - $49999\"]  \n",
    "\n",
    "first_group = expensive_restaurant_coupons_df[\n",
    "    (expensive_restaurant_coupons_df['Restaurant20To50'].isin(frequent_expensive_restaurant_visitors)) &\n",
    "    (expensive_restaurant_coupons_df['passanger'].isin(non_kid_passengers)) &\n",
    "    (expensive_restaurant_coupons_df['maritalStatus'].isin(not_widowed))\n",
    "]\n",
    "second_group = expensive_restaurant_coupons_df[\n",
    "    (expensive_restaurant_coupons_df['Restaurant20To50'].isin(frequent_expensive_restaurant_visitors)) & \n",
    "    (expensive_restaurant_coupons_df['age'].isin(under_30))\n",
    "]\n",
    "third_group = expensive_restaurant_coupons_df[\n",
    "    (expensive_restaurant_coupons_df['RestaurantLessThan20'].isin(cheap_restaurant_frequent_visitors)) &\n",
    "    (expensive_restaurant_coupons_df['income'].isin(low_income))\n",
    "]\n",
    "\n",
    "group1_acceptance = first_group['Y'].mean() if not first_group.empty else 0  \n",
    "group2_acceptance = second_group['Y'].mean()\n",
    "group3_acceptance = third_group['Y'].mean()\n",
    "\n",
    "print(f\"Acceptance rate for drivers who go to expensive restaurants more than once a month, had passengers that were not a kid, and were not widowed: {group1_acceptance:.2%}\")\n",
    "print(f\"Acceptance rate for drivers who go to expensive restaurants more than once a month and are under 30: {group2_acceptance:.2%}\")\n",
    "print(f\"Acceptance rate for drivers who go to cheap restaurants more than 4 times a month and earn less than 50K: {group3_acceptance:.2%}\")\n"
   ]
  },
  {
   "cell_type": "code",
   "execution_count": null,
   "metadata": {},
   "outputs": [],
   "source": []
  }
 ],
 "metadata": {
  "colab": {
   "provenance": []
  },
  "kernelspec": {
   "display_name": "Python 3 (ipykernel)",
   "language": "python",
   "name": "python3"
  },
  "language_info": {
   "codemirror_mode": {
    "name": "ipython",
    "version": 3
   },
   "file_extension": ".py",
   "mimetype": "text/x-python",
   "name": "python",
   "nbconvert_exporter": "python",
   "pygments_lexer": "ipython3",
   "version": "3.12.7"
  }
 },
 "nbformat": 4,
 "nbformat_minor": 4
}
